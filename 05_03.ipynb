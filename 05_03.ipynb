{
 "cells": [
  {
   "cell_type": "code",
   "execution_count": 1,
   "id": "56ea2b52-9a31-4645-bd23-79e1719ec3a9",
   "metadata": {},
   "outputs": [],
   "source": [
    "import pandas as pd"
   ]
  },
  {
   "cell_type": "code",
   "execution_count": 2,
   "id": "87a03c6f-b78a-4566-a6f6-6d3cf2535f8c",
   "metadata": {},
   "outputs": [],
   "source": [
    "netflix_data = pd.read_csv(\"netflix_data.csv\")"
   ]
  },
  {
   "cell_type": "code",
   "execution_count": 3,
   "id": "55019352-416f-4cf2-ac34-72ef5bc20231",
   "metadata": {},
   "outputs": [
    {
     "data": {
      "text/plain": [
       "(7787, 11)"
      ]
     },
     "execution_count": 3,
     "metadata": {},
     "output_type": "execute_result"
    }
   ],
   "source": [
    "netflix_data.shape"
   ]
  },
  {
   "cell_type": "code",
   "execution_count": 4,
   "id": "e9cbc234-a21b-497c-bc35-9b7d8cc58539",
   "metadata": {},
   "outputs": [
    {
     "data": {
      "text/html": [
       "<div>\n",
       "<style scoped>\n",
       "    .dataframe tbody tr th:only-of-type {\n",
       "        vertical-align: middle;\n",
       "    }\n",
       "\n",
       "    .dataframe tbody tr th {\n",
       "        vertical-align: top;\n",
       "    }\n",
       "\n",
       "    .dataframe thead th {\n",
       "        text-align: right;\n",
       "    }\n",
       "</style>\n",
       "<table border=\"1\" class=\"dataframe\">\n",
       "  <thead>\n",
       "    <tr style=\"text-align: right;\">\n",
       "      <th></th>\n",
       "      <th>show_id</th>\n",
       "      <th>type</th>\n",
       "      <th>title</th>\n",
       "      <th>director</th>\n",
       "      <th>cast</th>\n",
       "      <th>country</th>\n",
       "      <th>date_added</th>\n",
       "      <th>release_year</th>\n",
       "      <th>rating</th>\n",
       "      <th>duration</th>\n",
       "      <th>genres</th>\n",
       "    </tr>\n",
       "  </thead>\n",
       "  <tbody>\n",
       "    <tr>\n",
       "      <th>0</th>\n",
       "      <td>s1</td>\n",
       "      <td>TV Show</td>\n",
       "      <td>3%</td>\n",
       "      <td>NaN</td>\n",
       "      <td>João Miguel, Bianca Comparato, Michel Gomes, R...</td>\n",
       "      <td>Brazil</td>\n",
       "      <td>14-Aug-20</td>\n",
       "      <td>2020</td>\n",
       "      <td>TV-MA</td>\n",
       "      <td>4</td>\n",
       "      <td>International TV Shows, TV Dramas, TV Sci-Fi &amp;...</td>\n",
       "    </tr>\n",
       "    <tr>\n",
       "      <th>1</th>\n",
       "      <td>s10</td>\n",
       "      <td>Movie</td>\n",
       "      <td>1920</td>\n",
       "      <td>Vikram Bhatt</td>\n",
       "      <td>Rajneesh Duggal, Adah Sharma, Indraneil Sengup...</td>\n",
       "      <td>India</td>\n",
       "      <td>15-Dec-17</td>\n",
       "      <td>2008</td>\n",
       "      <td>TV-MA</td>\n",
       "      <td>143</td>\n",
       "      <td>Horror Movies, International Movies, Thrillers</td>\n",
       "    </tr>\n",
       "    <tr>\n",
       "      <th>2</th>\n",
       "      <td>s100</td>\n",
       "      <td>Movie</td>\n",
       "      <td>3 Heroines</td>\n",
       "      <td>Iman Brotoseno</td>\n",
       "      <td>Reza Rahadian, Bunga Citra Lestari, Tara Basro...</td>\n",
       "      <td>Indonesia</td>\n",
       "      <td>05-Jan-19</td>\n",
       "      <td>2016</td>\n",
       "      <td>TV-PG</td>\n",
       "      <td>124</td>\n",
       "      <td>Dramas, International Movies, Sports Movies</td>\n",
       "    </tr>\n",
       "    <tr>\n",
       "      <th>3</th>\n",
       "      <td>s1000</td>\n",
       "      <td>Movie</td>\n",
       "      <td>Blue Mountain State: The Rise of Thadland</td>\n",
       "      <td>Lev L. Spiro</td>\n",
       "      <td>Alan Ritchson, Darin Brooks, James Cade, Rob R...</td>\n",
       "      <td>United States</td>\n",
       "      <td>01-Mar-16</td>\n",
       "      <td>2016</td>\n",
       "      <td>R</td>\n",
       "      <td>90</td>\n",
       "      <td>Comedies</td>\n",
       "    </tr>\n",
       "    <tr>\n",
       "      <th>4</th>\n",
       "      <td>s1001</td>\n",
       "      <td>TV Show</td>\n",
       "      <td>Blue Planet II</td>\n",
       "      <td>NaN</td>\n",
       "      <td>David Attenborough</td>\n",
       "      <td>United Kingdom</td>\n",
       "      <td>03-Dec-18</td>\n",
       "      <td>2017</td>\n",
       "      <td>TV-G</td>\n",
       "      <td>1</td>\n",
       "      <td>British TV Shows, Docuseries, Science &amp; Nature TV</td>\n",
       "    </tr>\n",
       "  </tbody>\n",
       "</table>\n",
       "</div>"
      ],
      "text/plain": [
       "  show_id     type                                      title        director  \\\n",
       "0      s1  TV Show                                         3%             NaN   \n",
       "1     s10    Movie                                       1920    Vikram Bhatt   \n",
       "2    s100    Movie                                 3 Heroines  Iman Brotoseno   \n",
       "3   s1000    Movie  Blue Mountain State: The Rise of Thadland    Lev L. Spiro   \n",
       "4   s1001  TV Show                             Blue Planet II             NaN   \n",
       "\n",
       "                                                cast         country  \\\n",
       "0  João Miguel, Bianca Comparato, Michel Gomes, R...          Brazil   \n",
       "1  Rajneesh Duggal, Adah Sharma, Indraneil Sengup...           India   \n",
       "2  Reza Rahadian, Bunga Citra Lestari, Tara Basro...       Indonesia   \n",
       "3  Alan Ritchson, Darin Brooks, James Cade, Rob R...   United States   \n",
       "4                                 David Attenborough  United Kingdom   \n",
       "\n",
       "  date_added  release_year rating  duration  \\\n",
       "0  14-Aug-20          2020  TV-MA         4   \n",
       "1  15-Dec-17          2008  TV-MA       143   \n",
       "2  05-Jan-19          2016  TV-PG       124   \n",
       "3  01-Mar-16          2016      R        90   \n",
       "4  03-Dec-18          2017   TV-G         1   \n",
       "\n",
       "                                              genres  \n",
       "0  International TV Shows, TV Dramas, TV Sci-Fi &...  \n",
       "1     Horror Movies, International Movies, Thrillers  \n",
       "2        Dramas, International Movies, Sports Movies  \n",
       "3                                           Comedies  \n",
       "4  British TV Shows, Docuseries, Science & Nature TV  "
      ]
     },
     "execution_count": 4,
     "metadata": {},
     "output_type": "execute_result"
    }
   ],
   "source": [
    "netflix_data.head()"
   ]
  },
  {
   "cell_type": "code",
   "execution_count": 5,
   "id": "d89c9950-b790-4bbe-8aaa-a7470ffd4d0d",
   "metadata": {},
   "outputs": [
    {
     "data": {
      "text/html": [
       "<div>\n",
       "<style scoped>\n",
       "    .dataframe tbody tr th:only-of-type {\n",
       "        vertical-align: middle;\n",
       "    }\n",
       "\n",
       "    .dataframe tbody tr th {\n",
       "        vertical-align: top;\n",
       "    }\n",
       "\n",
       "    .dataframe thead th {\n",
       "        text-align: right;\n",
       "    }\n",
       "</style>\n",
       "<table border=\"1\" class=\"dataframe\">\n",
       "  <thead>\n",
       "    <tr style=\"text-align: right;\">\n",
       "      <th></th>\n",
       "      <th>show_id</th>\n",
       "      <th>type</th>\n",
       "      <th>title</th>\n",
       "      <th>cast</th>\n",
       "      <th>country</th>\n",
       "      <th>date_added</th>\n",
       "      <th>release_year</th>\n",
       "      <th>rating</th>\n",
       "      <th>duration</th>\n",
       "      <th>genres</th>\n",
       "    </tr>\n",
       "    <tr>\n",
       "      <th>director</th>\n",
       "      <th></th>\n",
       "      <th></th>\n",
       "      <th></th>\n",
       "      <th></th>\n",
       "      <th></th>\n",
       "      <th></th>\n",
       "      <th></th>\n",
       "      <th></th>\n",
       "      <th></th>\n",
       "      <th></th>\n",
       "    </tr>\n",
       "  </thead>\n",
       "  <tbody>\n",
       "    <tr>\n",
       "      <th>A. L. Vijay</th>\n",
       "      <td>2</td>\n",
       "      <td>2</td>\n",
       "      <td>2</td>\n",
       "      <td>2</td>\n",
       "      <td>2</td>\n",
       "      <td>2</td>\n",
       "      <td>2</td>\n",
       "      <td>2</td>\n",
       "      <td>2</td>\n",
       "      <td>2</td>\n",
       "    </tr>\n",
       "    <tr>\n",
       "      <th>A. Raajdheep</th>\n",
       "      <td>1</td>\n",
       "      <td>1</td>\n",
       "      <td>1</td>\n",
       "      <td>1</td>\n",
       "      <td>1</td>\n",
       "      <td>1</td>\n",
       "      <td>1</td>\n",
       "      <td>1</td>\n",
       "      <td>1</td>\n",
       "      <td>1</td>\n",
       "    </tr>\n",
       "    <tr>\n",
       "      <th>A. Salaam</th>\n",
       "      <td>1</td>\n",
       "      <td>1</td>\n",
       "      <td>1</td>\n",
       "      <td>1</td>\n",
       "      <td>1</td>\n",
       "      <td>1</td>\n",
       "      <td>1</td>\n",
       "      <td>1</td>\n",
       "      <td>1</td>\n",
       "      <td>1</td>\n",
       "    </tr>\n",
       "    <tr>\n",
       "      <th>A.R. Murugadoss</th>\n",
       "      <td>2</td>\n",
       "      <td>2</td>\n",
       "      <td>2</td>\n",
       "      <td>2</td>\n",
       "      <td>1</td>\n",
       "      <td>2</td>\n",
       "      <td>2</td>\n",
       "      <td>2</td>\n",
       "      <td>2</td>\n",
       "      <td>2</td>\n",
       "    </tr>\n",
       "    <tr>\n",
       "      <th>Aadish Keluskar</th>\n",
       "      <td>1</td>\n",
       "      <td>1</td>\n",
       "      <td>1</td>\n",
       "      <td>1</td>\n",
       "      <td>1</td>\n",
       "      <td>1</td>\n",
       "      <td>1</td>\n",
       "      <td>1</td>\n",
       "      <td>1</td>\n",
       "      <td>1</td>\n",
       "    </tr>\n",
       "  </tbody>\n",
       "</table>\n",
       "</div>"
      ],
      "text/plain": [
       "                 show_id  type  title  cast  country  date_added  \\\n",
       "director                                                           \n",
       "A. L. Vijay            2     2      2     2        2           2   \n",
       "A. Raajdheep           1     1      1     1        1           1   \n",
       "A. Salaam              1     1      1     1        1           1   \n",
       "A.R. Murugadoss        2     2      2     2        1           2   \n",
       "Aadish Keluskar        1     1      1     1        1           1   \n",
       "\n",
       "                 release_year  rating  duration  genres  \n",
       "director                                                 \n",
       "A. L. Vijay                 2       2         2       2  \n",
       "A. Raajdheep                1       1         1       1  \n",
       "A. Salaam                   1       1         1       1  \n",
       "A.R. Murugadoss             2       2         2       2  \n",
       "Aadish Keluskar             1       1         1       1  "
      ]
     },
     "execution_count": 5,
     "metadata": {},
     "output_type": "execute_result"
    }
   ],
   "source": [
    "netflix_data.groupby(\"director\").count().head()"
   ]
  },
  {
   "cell_type": "code",
   "execution_count": 6,
   "id": "6c5e37c0-9b32-4cb3-8062-d38ae744e7a7",
   "metadata": {},
   "outputs": [
    {
     "data": {
      "text/plain": [
       "4298    1925\n",
       "4402    1942\n",
       "5688    1942\n",
       "7423    1943\n",
       "7353    1943\n",
       "        ... \n",
       "4562    2021\n",
       "1937    2021\n",
       "6087    2021\n",
       "7384    2021\n",
       "3528    2021\n",
       "Name: release_year, Length: 7787, dtype: int64"
      ]
     },
     "execution_count": 6,
     "metadata": {},
     "output_type": "execute_result"
    }
   ],
   "source": [
    "netflix_data[\"release_year\"].sort_values()"
   ]
  },
  {
   "cell_type": "code",
   "execution_count": 9,
   "id": "6b754304-820f-4f04-be54-5a3ed1352da1",
   "metadata": {},
   "outputs": [
    {
     "data": {
      "text/plain": [
       "show_id            0\n",
       "type               0\n",
       "title              0\n",
       "director        2389\n",
       "cast             718\n",
       "country          507\n",
       "date_added        10\n",
       "release_year       0\n",
       "rating             7\n",
       "duration           0\n",
       "genres             0\n",
       "dtype: int64"
      ]
     },
     "execution_count": 9,
     "metadata": {},
     "output_type": "execute_result"
    }
   ],
   "source": [
    "netflix_data.isna().sum()"
   ]
  },
  {
   "cell_type": "code",
   "execution_count": 10,
   "id": "8a97ecb3-ee29-4f73-8432-523025841405",
   "metadata": {},
   "outputs": [
    {
     "data": {
      "text/plain": [
       "np.int64(3631)"
      ]
     },
     "execution_count": 10,
     "metadata": {},
     "output_type": "execute_result"
    }
   ],
   "source": [
    "netflix_data.isna().sum().sum()"
   ]
  },
  {
   "cell_type": "code",
   "execution_count": 13,
   "id": "28fa8cb3-dee1-42ca-87ce-e8102beb15e5",
   "metadata": {},
   "outputs": [
    {
     "data": {
      "text/plain": [
       "np.float64(46.628997046359316)"
      ]
     },
     "execution_count": 13,
     "metadata": {},
     "output_type": "execute_result"
    }
   ],
   "source": [
    "#percentage of rows with missing values\n",
    "\n",
    "(netflix_data.isna().sum().sum() / netflix_data.shape[0]) * 100"
   ]
  },
  {
   "cell_type": "code",
   "execution_count": 14,
   "id": "b689d9c8-0c70-4cd0-b5fe-2ded0ce4ec15",
   "metadata": {},
   "outputs": [],
   "source": [
    "netflix_data = netflix_data.dropna()"
   ]
  },
  {
   "cell_type": "code",
   "execution_count": 16,
   "id": "e9ac4209-02cc-4ef3-94f0-5d95cbc5711e",
   "metadata": {},
   "outputs": [
    {
     "data": {
      "text/plain": [
       "(4808, 11)"
      ]
     },
     "execution_count": 16,
     "metadata": {},
     "output_type": "execute_result"
    }
   ],
   "source": [
    "netflix_data.shape"
   ]
  },
  {
   "cell_type": "code",
   "execution_count": 19,
   "id": "0f1855e1-5888-47fa-bb5f-45402a1c2962",
   "metadata": {},
   "outputs": [
    {
     "data": {
      "text/plain": [
       "np.int64(0)"
      ]
     },
     "execution_count": 19,
     "metadata": {},
     "output_type": "execute_result"
    }
   ],
   "source": [
    "netflix_data.duplicated().sum()"
   ]
  },
  {
   "cell_type": "code",
   "execution_count": 20,
   "id": "9e9f2376-57a3-4adc-b555-c3049fa44c78",
   "metadata": {},
   "outputs": [
    {
     "data": {
      "text/plain": [
       "dtype('O')"
      ]
     },
     "execution_count": 20,
     "metadata": {},
     "output_type": "execute_result"
    }
   ],
   "source": [
    "netflix_data[\"date_added\"].dtype"
   ]
  },
  {
   "cell_type": "code",
   "execution_count": 21,
   "id": "cd1e5202-9c89-4ee9-a1ff-e91ba606f14b",
   "metadata": {},
   "outputs": [
    {
     "data": {
      "text/plain": [
       "str"
      ]
     },
     "execution_count": 21,
     "metadata": {},
     "output_type": "execute_result"
    }
   ],
   "source": [
    "type(netflix_data[\"date_added\"].iloc[0])"
   ]
  },
  {
   "cell_type": "code",
   "execution_count": 23,
   "id": "0f80ca02-6d9c-4245-b343-68baaa7073fd",
   "metadata": {},
   "outputs": [],
   "source": [
    "netflix_data[\"date_added\"] = pd.to_datetime(netflix_data[\"date_added\"], format=\"%B %d, %Y\")"
   ]
  },
  {
   "cell_type": "code",
   "execution_count": 24,
   "id": "dd46257d-1656-432e-9e4d-b8c7f22ba388",
   "metadata": {},
   "outputs": [
    {
     "data": {
      "text/plain": [
       "1      2017-12-15\n",
       "2      2019-01-05\n",
       "3      2016-03-01\n",
       "5      2019-02-25\n",
       "6      2021-01-01\n",
       "          ...    \n",
       "7778   2019-06-21\n",
       "7781   2019-10-01\n",
       "7784   2016-08-26\n",
       "7785   2019-03-08\n",
       "7786   2016-12-06\n",
       "Name: date_added, Length: 4808, dtype: datetime64[ns]"
      ]
     },
     "execution_count": 24,
     "metadata": {},
     "output_type": "execute_result"
    }
   ],
   "source": [
    "netflix_data[\"date_added\"]"
   ]
  },
  {
   "cell_type": "code",
   "execution_count": 26,
   "id": "975539d5-6adc-42b7-92e9-1b82d67cbcf3",
   "metadata": {},
   "outputs": [
    {
     "data": {
      "text/plain": [
       "dtype('int64')"
      ]
     },
     "execution_count": 26,
     "metadata": {},
     "output_type": "execute_result"
    }
   ],
   "source": [
    "netflix_data[\"release_year\"].dtype"
   ]
  },
  {
   "cell_type": "code",
   "execution_count": null,
   "id": "4de9cd5e-aacf-413f-834f-c1112506b3db",
   "metadata": {},
   "outputs": [],
   "source": []
  }
 ],
 "metadata": {
  "kernelspec": {
   "display_name": "Python 3 (ipykernel)",
   "language": "python",
   "name": "python3"
  },
  "language_info": {
   "codemirror_mode": {
    "name": "ipython",
    "version": 3
   },
   "file_extension": ".py",
   "mimetype": "text/x-python",
   "name": "python",
   "nbconvert_exporter": "python",
   "pygments_lexer": "ipython3",
   "version": "3.13.5"
  }
 },
 "nbformat": 4,
 "nbformat_minor": 5
}
