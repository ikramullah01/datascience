{
 "cells": [
  {
   "cell_type": "code",
   "execution_count": 2,
   "metadata": {
    "id": "_H2qr4cEri4k"
   },
   "outputs": [],
   "source": [
    "import pandas as pd\n",
    "import matplotlib.pyplot as plt\n",
    "import seaborn as sns\n",
    "import numpy as np"
   ]
  },
  {
   "cell_type": "code",
   "execution_count": 3,
   "metadata": {
    "id": "E4vBuHw0rm5B"
   },
   "outputs": [],
   "source": [
    "avocado_info = pd.read_csv(\"avocado_info.csv\")"
   ]
  },
  {
   "cell_type": "code",
   "execution_count": 4,
   "metadata": {
    "colab": {
     "base_uri": "https://localhost:8080/",
     "height": 206
    },
    "executionInfo": {
     "elapsed": 278,
     "status": "ok",
     "timestamp": 1678320261949,
     "user": {
      "displayName": "Lavanya Vijayan",
      "userId": "09394087000910120547"
     },
     "user_tz": 480
    },
    "id": "c70ZQ0yprnwA",
    "outputId": "d6546327-9a49-45e7-c346-1cba9ecd7951"
   },
   "outputs": [
    {
     "data": {
      "text/html": [
       "<div>\n",
       "<style scoped>\n",
       "    .dataframe tbody tr th:only-of-type {\n",
       "        vertical-align: middle;\n",
       "    }\n",
       "\n",
       "    .dataframe tbody tr th {\n",
       "        vertical-align: top;\n",
       "    }\n",
       "\n",
       "    .dataframe thead th {\n",
       "        text-align: right;\n",
       "    }\n",
       "</style>\n",
       "<table border=\"1\" class=\"dataframe\">\n",
       "  <thead>\n",
       "    <tr style=\"text-align: right;\">\n",
       "      <th></th>\n",
       "      <th>Growth Duration</th>\n",
       "      <th>Fertilizer</th>\n",
       "    </tr>\n",
       "  </thead>\n",
       "  <tbody>\n",
       "    <tr>\n",
       "      <th>0</th>\n",
       "      <td>98</td>\n",
       "      <td>True</td>\n",
       "    </tr>\n",
       "    <tr>\n",
       "      <th>1</th>\n",
       "      <td>108</td>\n",
       "      <td>False</td>\n",
       "    </tr>\n",
       "    <tr>\n",
       "      <th>2</th>\n",
       "      <td>129</td>\n",
       "      <td>False</td>\n",
       "    </tr>\n",
       "    <tr>\n",
       "      <th>3</th>\n",
       "      <td>116</td>\n",
       "      <td>False</td>\n",
       "    </tr>\n",
       "    <tr>\n",
       "      <th>4</th>\n",
       "      <td>111</td>\n",
       "      <td>False</td>\n",
       "    </tr>\n",
       "  </tbody>\n",
       "</table>\n",
       "</div>"
      ],
      "text/plain": [
       "   Growth Duration  Fertilizer\n",
       "0               98        True\n",
       "1              108       False\n",
       "2              129       False\n",
       "3              116       False\n",
       "4              111       False"
      ]
     },
     "execution_count": 4,
     "metadata": {},
     "output_type": "execute_result"
    }
   ],
   "source": [
    "avocado_info.head()"
   ]
  },
  {
   "cell_type": "code",
   "execution_count": 5,
   "metadata": {
    "executionInfo": {
     "elapsed": 192,
     "status": "ok",
     "timestamp": 1678321644484,
     "user": {
      "displayName": "Lavanya Vijayan",
      "userId": "09394087000910120547"
     },
     "user_tz": 480
    },
    "id": "3G3X0ECArosb"
   },
   "outputs": [],
   "source": [
    "fertilized = avocado_info.loc[avocado_info[\"Fertilizer\"] == True, \"Growth Duration\"]\n",
    "\n",
    "not_fertilized = avocado_info.loc[avocado_info[\"Fertilizer\"] == False, \"Growth Duration\"]"
   ]
  },
  {
   "cell_type": "code",
   "execution_count": 6,
   "metadata": {
    "colab": {
     "base_uri": "https://localhost:8080/"
    },
    "executionInfo": {
     "elapsed": 2,
     "status": "ok",
     "timestamp": 1678321649215,
     "user": {
      "displayName": "Lavanya Vijayan",
      "userId": "09394087000910120547"
     },
     "user_tz": 480
    },
    "id": "YsXZmX_GrrmV",
    "outputId": "83da5677-679c-4fa3-b3d0-a32c974bf806"
   },
   "outputs": [
    {
     "data": {
      "text/plain": [
       "array([127, 127,  86,  99, 101, 101, 140, 110, 122, 127, 113, 119,  86,\n",
       "       136, 129, 113, 132,  99,  99, 102, 103, 119, 109, 111, 119, 130,\n",
       "       112, 105, 129, 104, 129, 134, 119, 104, 138, 122,  86, 117, 114,\n",
       "       136, 102, 133, 102, 115, 101, 120, 115, 117, 156, 104, 120, 125,\n",
       "       115, 118, 100, 137, 117,  99, 130,  97, 131, 144, 103, 103, 137,\n",
       "       114, 105, 117, 104, 115, 117, 116, 117,  77, 103, 111,  99, 127,\n",
       "       119, 132, 109, 163, 103, 125, 114, 109, 104, 117, 100, 130, 112,\n",
       "        97, 127,  95, 139, 134,  97, 112, 114, 125, 108, 154, 116, 100,\n",
       "       120, 100, 104,  93, 117, 109, 101, 130, 122, 112,  98, 102, 131,\n",
       "       120, 145, 113, 117,  97, 145, 113, 129,  75, 109, 117, 121,  91,\n",
       "       142, 104,  98, 105, 101, 100,  96, 105,  84, 119, 123, 118, 118,\n",
       "       109,  98, 102,  96, 113, 109, 103, 133,  81, 100, 126, 129,  91,\n",
       "        77, 109, 152, 114, 123, 116,  96, 125, 104, 108, 124, 114,  96,\n",
       "       103, 115,  84, 117, 107, 104,  99, 131, 123, 113, 116, 122, 129,\n",
       "       110, 115, 141,  92, 104, 103, 121, 105, 104, 104, 134, 136, 106,\n",
       "       114, 119, 103, 105,  86, 123,  78, 141, 118, 123, 109, 134, 129,\n",
       "       116,  83, 126,  99,  98, 119, 114, 131, 123, 121, 103,  98, 128,\n",
       "       129, 135,  75, 117, 143, 123,  86, 126, 138, 102,  96, 110, 131,\n",
       "       144, 124, 101, 100, 108, 143, 119, 101, 117,  77, 110, 113,  94,\n",
       "       104, 100, 128, 129,  93,  88, 150, 103, 117,  98, 111, 130,  88,\n",
       "       117, 105, 115, 108, 117, 100, 114,  96, 143, 102, 101, 115, 114,\n",
       "       117, 124,  96, 108, 119, 106, 137, 122,  98, 144, 136, 152, 119,\n",
       "       114,  97, 131, 115, 115, 134, 119, 112, 117, 130, 122, 124, 132,\n",
       "       100, 143, 122, 129, 160, 126, 130, 130, 129, 105,  94, 123, 108,\n",
       "       109, 135, 103,  65, 109, 102,  97, 133, 117, 105,  91, 117, 113,\n",
       "        88,  87, 138,  98, 138, 114,  99, 127,  69, 121,  98, 117, 127,\n",
       "        96, 120, 107,  97, 109, 122, 101, 121, 122, 105,  98,  96, 115,\n",
       "       116,  98, 114,  98, 125, 117, 126, 108,  84, 118, 125,  90, 123,\n",
       "       116, 109, 117, 141, 103, 109, 117, 121, 110, 109,  98, 132,  88,\n",
       "       109, 108, 135, 143, 102,  93, 103, 136,  97, 101, 143, 130, 101,\n",
       "       125, 108, 102, 128, 125,  99, 114, 122, 108, 125, 103, 109, 112,\n",
       "       109, 116, 122,  75, 100,  82,  98,  97, 127, 103, 120,  98,  99,\n",
       "       117, 102, 116, 123, 120,  98, 124, 118, 123,  91, 117,  91, 115,\n",
       "       122, 128,  86,  82, 148, 108, 121, 117, 101, 144, 105, 105, 129,\n",
       "       109, 123, 155,  88, 154,  92, 115, 115, 125,  88, 100, 130, 121,\n",
       "       117, 131,  95,  96])"
      ]
     },
     "execution_count": 6,
     "metadata": {},
     "output_type": "execute_result"
    }
   ],
   "source": [
    "np.random.choice(fertilized, size = len(fertilized))"
   ]
  },
  {
   "cell_type": "code",
   "execution_count": 6,
   "metadata": {
    "colab": {
     "base_uri": "https://localhost:8080/"
    },
    "executionInfo": {
     "elapsed": 197,
     "status": "ok",
     "timestamp": 1678321663649,
     "user": {
      "displayName": "Lavanya Vijayan",
      "userId": "09394087000910120547"
     },
     "user_tz": 480
    },
    "id": "5oigyooKxCS1",
    "outputId": "96a90e28-da3a-4ba2-de76-1d79ca683b5b"
   },
   "outputs": [
    {
     "data": {
      "text/plain": [
       "array([125, 142, 147, 128, 152, 124, 140, 165, 132, 127, 103, 112,  80,\n",
       "       116, 104,  90, 126, 144, 110, 123, 138, 117, 119, 132,  55, 132,\n",
       "       109, 150, 139, 141, 100, 142, 133, 125, 104, 119, 135, 110,  85,\n",
       "        93, 158, 124, 152, 124,  90, 130, 124,  72, 132, 122, 138, 102,\n",
       "       114, 116, 112, 130, 123, 118, 120, 132, 123, 115, 127, 113, 111,\n",
       "       118, 112, 125, 125, 123, 137, 110, 132, 122, 102, 131, 117, 131,\n",
       "        87, 116, 100, 119, 123, 132, 116,  97, 114, 121, 115,  98, 113,\n",
       "       122, 120, 148,  71, 126, 117, 160, 123,  84, 125, 139,  97, 128,\n",
       "       135, 145, 110, 124, 128, 163, 113, 119, 137, 134, 123, 111, 133,\n",
       "       130, 139, 119, 132, 113,  97, 135, 113, 133, 121, 110, 158, 124,\n",
       "       126,  98, 135, 102, 139, 108, 145, 127, 137, 102, 120, 111, 120,\n",
       "       114, 111, 113, 119, 127, 110, 110, 104, 119, 119, 123, 138, 113,\n",
       "        84, 137, 125,  88, 126, 106, 123, 110, 116, 138, 104, 146, 127,\n",
       "       136, 143, 158, 137, 128, 121,  97, 102, 129, 116, 160, 136, 131,\n",
       "       118, 126, 131,  96, 150,  91, 104, 117, 109, 144, 107, 124, 100,\n",
       "       132, 138, 160, 128, 126, 173, 118, 103, 101, 140, 137, 119, 160,\n",
       "       146, 123,  94, 137, 156, 135,  80, 123, 123, 142,  99, 112, 115,\n",
       "       112, 118, 127, 112,  91, 124, 108,  78, 110, 112, 102, 117, 136,\n",
       "       116, 155, 111, 118, 116, 131, 135, 136, 115, 174, 124, 147,  97,\n",
       "       126, 152,  98, 132,  88, 134, 110, 117, 124, 115, 107, 124, 115,\n",
       "       112,  93, 150, 120, 124, 101, 173, 137, 110, 138, 147, 127, 141,\n",
       "       104, 115, 140, 139, 131, 124, 131,  79, 127, 112, 116, 113, 110,\n",
       "       137, 111, 146, 163, 117, 117, 120, 115, 126, 160,  99, 133, 124,\n",
       "       136, 128, 124, 104, 101, 131, 133, 130, 129, 129, 121, 121, 130,\n",
       "       134, 138, 122, 137, 143, 124, 111, 107, 124, 103,  63, 128, 116,\n",
       "       126, 130, 111, 115, 119,  90, 126, 126, 136, 130, 115, 133, 104,\n",
       "       107, 128, 119, 139, 110, 176, 112, 119, 122, 128, 127, 106, 150,\n",
       "        89, 158, 124, 105, 120, 112, 123, 145, 136, 122, 137, 115, 118,\n",
       "       141, 100, 121, 130,  89, 125, 108, 105,  98, 125, 106, 116, 131,\n",
       "       110, 126, 118, 111, 144, 132, 124, 128, 129, 147, 137, 117, 138,\n",
       "       113, 129, 101, 122, 126, 120, 124, 105, 120, 123, 105, 130, 121,\n",
       "       117, 146, 128, 133, 114, 139, 105, 139, 133, 131, 101, 144, 115,\n",
       "       111,  89, 136, 158, 121, 118, 148, 163, 173, 146,  97,  99, 119,\n",
       "       119, 112, 102, 144, 120, 150, 128, 136, 108, 110, 147, 147, 117,\n",
       "       134,  85, 123, 128, 100, 150, 120, 105, 132, 121, 129,  85, 127,\n",
       "       138, 114, 129, 125])"
      ]
     },
     "execution_count": 6,
     "metadata": {},
     "output_type": "execute_result"
    }
   ],
   "source": [
    "np.random.choice(not_fertilized, size = len(fertilized))"
   ]
  },
  {
   "cell_type": "code",
   "execution_count": 12,
   "metadata": {
    "executionInfo": {
     "elapsed": 170,
     "status": "ok",
     "timestamp": 1678321715662,
     "user": {
      "displayName": "Lavanya Vijayan",
      "userId": "09394087000910120547"
     },
     "user_tz": 480
    },
    "id": "aznsDvgqtwVh"
   },
   "outputs": [],
   "source": [
    "def resample(orig_sample):\n",
    "      return np.random.choice(orig_sample, size = len(orig_sample))"
   ]
  },
  {
   "cell_type": "code",
   "execution_count": 13,
   "metadata": {
    "executionInfo": {
     "elapsed": 152,
     "status": "ok",
     "timestamp": 1678321766588,
     "user": {
      "displayName": "Lavanya Vijayan",
      "userId": "09394087000910120547"
     },
     "user_tz": 480
    },
    "id": "BM70rkqdt51e"
   },
   "outputs": [],
   "source": [
    "def bootstrap(orig_sample, reps):\n",
    "    means = np.array([])\n",
    "    for i in range(reps):\n",
    "        new_sample = resample(orig_sample)\n",
    "        new_mean = np.mean(new_sample)\n",
    "        means = np. append(means, new_mean)\n",
    "    return means"
   ]
  },
  {
   "cell_type": "code",
   "execution_count": 14,
   "metadata": {
    "executionInfo": {
     "elapsed": 1362,
     "status": "ok",
     "timestamp": 1678321742616,
     "user": {
      "displayName": "Lavanya Vijayan",
      "userId": "09394087000910120547"
     },
     "user_tz": 480
    },
    "id": "Tjg403CIuNmb"
   },
   "outputs": [],
   "source": [
    "fertilized_means = bootstrap(fertilized, 10000)\n",
    "\n",
    "not_fertilized_means = bootstrap(not_fertilized, 10000)\n",
    "\n",
    "estimates = fertilized_means - not_fertilized_means"
   ]
  },
  {
   "cell_type": "code",
   "execution_count": 15,
   "metadata": {
    "colab": {
     "base_uri": "https://localhost:8080/"
    },
    "executionInfo": {
     "elapsed": 151,
     "status": "ok",
     "timestamp": 1678321743758,
     "user": {
      "displayName": "Lavanya Vijayan",
      "userId": "09394087000910120547"
     },
     "user_tz": 480
    },
    "id": "yoFwzoO-uh7e",
    "outputId": "44a2ffc0-afa6-4626-bac5-0ec57e1e1862"
   },
   "outputs": [
    {
     "data": {
      "text/plain": [
       "array([ -7.77888386,  -9.65943904, -10.30605604, ...,  -8.48894678,\n",
       "        -7.70287795,  -9.23992565])"
      ]
     },
     "execution_count": 15,
     "metadata": {},
     "output_type": "execute_result"
    }
   ],
   "source": [
    "estimates"
   ]
  },
  {
   "cell_type": "code",
   "execution_count": 16,
   "metadata": {
    "colab": {
     "base_uri": "https://localhost:8080/",
     "height": 265
    },
    "executionInfo": {
     "elapsed": 2093,
     "status": "ok",
     "timestamp": 1678321797441,
     "user": {
      "displayName": "Lavanya Vijayan",
      "userId": "09394087000910120547"
     },
     "user_tz": 480
    },
    "id": "gOFxd3kkujgO",
    "outputId": "dc393080-824b-4dfb-c30e-b1d8cc3b819d"
   },
   "outputs": [
    {
     "data": {
      "image/png": "[encoded data removed]",
      "text/plain": [
       "<Figure size 640x480 with 1 Axes>"
      ]
     },
     "metadata": {},
     "output_type": "display_data"
    }
   ],
   "source": [
    "sns.histplot(estimates)\n",
    "plt.show()"
   ]
  },
  {
   "cell_type": "code",
   "execution_count": 17,
   "metadata": {
    "colab": {
     "base_uri": "https://localhost:8080/"
    },
    "executionInfo": {
     "elapsed": 156,
     "status": "ok",
     "timestamp": 1678321801960,
     "user": {
      "displayName": "Lavanya Vijayan",
      "userId": "09394087000910120547"
     },
     "user_tz": 480
    },
    "id": "gFbIc4yPut9a",
    "outputId": "1169ca63-5f66-4035-9f7f-d9d9e6f3fa3f"
   },
   "outputs": [
    {
     "data": {
      "text/plain": [
       "(np.float64(-11.39560552737024), np.float64(-7.152906363788718))"
      ]
     },
     "execution_count": 17,
     "metadata": {},
     "output_type": "execute_result"
    }
   ],
   "source": [
    "(np.percentile(estimates, 2.5), np.percentile(estimates, 97.5))"
   ]
  },
  {
   "cell_type": "code",
   "execution_count": null,
   "metadata": {
    "id": "Jdpjglifxlim"
   },
   "outputs": [],
   "source": []
  }
 ],
 "metadata": {
  "colab": {
   "provenance": []
  },
  "kernelspec": {
   "display_name": "Python 3 (ipykernel)",
   "language": "python",
   "name": "python3"
  },
  "language_info": {
   "codemirror_mode": {
    "name": "ipython",
    "version": 3
   },
   "file_extension": ".py",
   "mimetype": "text/x-python",
   "name": "python",
   "nbconvert_exporter": "python",
   "pygments_lexer": "ipython3",
   "version": "3.13.5"
  }
 },
 "nbformat": 4,
 "nbformat_minor": 4
}
