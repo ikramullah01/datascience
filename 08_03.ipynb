{
 "cells": [
  {
   "cell_type": "code",
   "execution_count": 2,
   "id": "05e50a3e-1b23-4b9b-b270-c9a30c4f1639",
   "metadata": {},
   "outputs": [],
   "source": [
    "import pandas as pd\n",
    "import matplotlib.pyplot as plt\n",
    "import seaborn as sn\n",
    "import numpy as np"
   ]
  },
  {
   "cell_type": "code",
   "execution_count": 3,
   "id": "8fbe24d2-2bc4-43b5-8ed3-94fb8283708d",
   "metadata": {},
   "outputs": [],
   "source": [
    "avocado_info = pd.read_csv(\"avocado_info.csv\")"
   ]
  },
  {
   "cell_type": "code",
   "execution_count": 4,
   "id": "f75c78c4-7680-410a-8f4c-ad6b13fbec7f",
   "metadata": {},
   "outputs": [
    {
     "data": {
      "text/html": [
       "<div>\n",
       "<style scoped>\n",
       "    .dataframe tbody tr th:only-of-type {\n",
       "        vertical-align: middle;\n",
       "    }\n",
       "\n",
       "    .dataframe tbody tr th {\n",
       "        vertical-align: top;\n",
       "    }\n",
       "\n",
       "    .dataframe thead th {\n",
       "        text-align: right;\n",
       "    }\n",
       "</style>\n",
       "<table border=\"1\" class=\"dataframe\">\n",
       "  <thead>\n",
       "    <tr style=\"text-align: right;\">\n",
       "      <th></th>\n",
       "      <th>Growth Duration</th>\n",
       "      <th>Fertilizer</th>\n",
       "    </tr>\n",
       "  </thead>\n",
       "  <tbody>\n",
       "    <tr>\n",
       "      <th>0</th>\n",
       "      <td>98</td>\n",
       "      <td>True</td>\n",
       "    </tr>\n",
       "    <tr>\n",
       "      <th>1</th>\n",
       "      <td>108</td>\n",
       "      <td>False</td>\n",
       "    </tr>\n",
       "    <tr>\n",
       "      <th>2</th>\n",
       "      <td>129</td>\n",
       "      <td>False</td>\n",
       "    </tr>\n",
       "    <tr>\n",
       "      <th>3</th>\n",
       "      <td>116</td>\n",
       "      <td>False</td>\n",
       "    </tr>\n",
       "    <tr>\n",
       "      <th>4</th>\n",
       "      <td>111</td>\n",
       "      <td>False</td>\n",
       "    </tr>\n",
       "  </tbody>\n",
       "</table>\n",
       "</div>"
      ],
      "text/plain": [
       "   Growth Duration  Fertilizer\n",
       "0               98        True\n",
       "1              108       False\n",
       "2              129       False\n",
       "3              116       False\n",
       "4              111       False"
      ]
     },
     "execution_count": 4,
     "metadata": {},
     "output_type": "execute_result"
    }
   ],
   "source": [
    "avocado_info.head()"
   ]
  },
  {
   "cell_type": "code",
   "execution_count": 6,
   "id": "d5d3fe58-02b1-41b7-baf8-0b6d9eaba483",
   "metadata": {},
   "outputs": [],
   "source": [
    "fertilized = avocado_info.loc[avocado_info[\"Fertilizer\"] == True]\n",
    "not_fertilized = avocado_info.loc[avocado_info[\"Fertilizer\"] == False]"
   ]
  },
  {
   "cell_type": "code",
   "execution_count": 7,
   "id": "c050e40f-9e5c-4460-88ac-427fb5749171",
   "metadata": {},
   "outputs": [
    {
     "data": {
      "text/plain": [
       "np.float64(-9.266142572024918)"
      ]
     },
     "execution_count": 7,
     "metadata": {},
     "output_type": "execute_result"
    }
   ],
   "source": [
    "observed_test_stat = np.mean(fertilized[\"Growth Duration\"]) - np.mean(not_fertilized[\"Growth Duration\"]) \n",
    "observed_test_stat"
   ]
  },
  {
   "cell_type": "code",
   "execution_count": 8,
   "id": "ac626766-4767-4163-803e-05883ab791f9",
   "metadata": {},
   "outputs": [
    {
     "data": {
      "text/plain": [
       "379      99\n",
       "1037    146\n",
       "490     103\n",
       "656     138\n",
       "683     135\n",
       "       ... \n",
       "1041     96\n",
       "1099    128\n",
       "90      102\n",
       "834     118\n",
       "542     126\n",
       "Name: Growth Duration, Length: 1174, dtype: int64"
      ]
     },
     "execution_count": 8,
     "metadata": {},
     "output_type": "execute_result"
    }
   ],
   "source": [
    "avocado_info[\"Growth Duration\"].sample(frac = 1)"
   ]
  },
  {
   "cell_type": "code",
   "execution_count": 10,
   "id": "cab2ca61-856e-49b5-a810-46d01ebd4669",
   "metadata": {},
   "outputs": [
    {
     "data": {
      "text/plain": [
       "0        68\n",
       "1       124\n",
       "2       119\n",
       "3       117\n",
       "4       133\n",
       "       ... \n",
       "1169    113\n",
       "1170    115\n",
       "1171    145\n",
       "1172    106\n",
       "1173    121\n",
       "Name: Growth Duration, Length: 1174, dtype: int64"
      ]
     },
     "execution_count": 10,
     "metadata": {},
     "output_type": "execute_result"
    }
   ],
   "source": [
    "avocado_info[\"Growth Duration\"].sample(frac = 1).reset_index(drop = True)"
   ]
  },
  {
   "cell_type": "code",
   "execution_count": null,
   "id": "d611f788-a3f9-42a8-9c8a-888eeb967ded",
   "metadata": {},
   "outputs": [],
   "source": []
  }
 ],
 "metadata": {
  "kernelspec": {
   "display_name": "Python 3 (ipykernel)",
   "language": "python",
   "name": "python3"
  },
  "language_info": {
   "codemirror_mode": {
    "name": "ipython",
    "version": 3
   },
   "file_extension": ".py",
   "mimetype": "text/x-python",
   "name": "python",
   "nbconvert_exporter": "python",
   "pygments_lexer": "ipython3",
   "version": "3.13.5"
  }
 },
 "nbformat": 4,
 "nbformat_minor": 5
}
